{
  "nbformat": 4,
  "nbformat_minor": 0,
  "metadata": {
    "colab": {
      "name": "Untitled0.ipynb",
      "provenance": [],
      "collapsed_sections": [],
      "authorship_tag": "ABX9TyNqEcuOlNyRad5BJ/jTcH+Z",
      "include_colab_link": true
    },
    "kernelspec": {
      "name": "python3",
      "display_name": "Python 3"
    },
    "language_info": {
      "name": "python"
    }
  },
  "cells": [
    {
      "cell_type": "markdown",
      "metadata": {
        "id": "view-in-github",
        "colab_type": "text"
      },
      "source": [
        "<a href=\"https://colab.research.google.com/github/mgrandau/springboard-ml-engineering/blob/main/Backpropagation.ipynb\" target=\"_parent\"><img src=\"https://colab.research.google.com/assets/colab-badge.svg\" alt=\"Open In Colab\"/></a>"
      ]
    },
    {
      "cell_type": "code",
      "metadata": {
        "colab": {
          "base_uri": "https://localhost:8080/"
        },
        "id": "hAE3O_cFgj3c",
        "outputId": "936db4a0-fa2f-431e-870b-3526d1910bf2"
      },
      "source": [
        "import numpy as np\n",
        "\n",
        "np.random.seed(1)\n",
        "\n",
        "def relu(x):\n",
        "  return (x>0) * x\n",
        "\n",
        "def relu2deriv(output):\n",
        "  return output>0\n",
        "\n",
        "alpha = 0.2\n",
        "hidden_size = 4\n",
        "\n",
        "streetlights = np.array([[ 1,0,1],\n",
        "                         [0,1,1],\n",
        "                         [0,0,1],\n",
        "                         [1,1,1]])\n",
        "\n",
        "walk_vs_stop = np.array([[1,1,0,0]]).T\n",
        "\n",
        "weights_0_1 = 2*np.random.random((3,hidden_size))-1 \n",
        "weights_1_2 = 2*np.random.random((hidden_size,1))-1\n",
        "\n",
        "for iteration in range (60):\n",
        "  layer_2_error=0\n",
        "  for i in range(len(streetlights)):\n",
        "    layer_0 = streetlights[i:i+1]\n",
        "    layer_1 = relu(np.dot(layer_0, weights_0_1))\n",
        "    layer_2 = np.dot(layer_1, weights_1_2)\n",
        "    layer_2_error += np.sum((layer_2-walk_vs_stop[i:i+1])**2)\n",
        "    layer_2_delta = (walk_vs_stop[i:i+1]-layer_2)\n",
        "    layer_1_delta=layer_2_delta.dot(weights_1_2.T)*relu2deriv(layer_1)\n",
        "\n",
        "    weights_1_2 += alpha* layer_1.T.dot(layer_2_delta)\n",
        "    weights_0_1 += alpha*layer_0.T.dot(layer_1_delta)\n",
        "\n",
        "  if(iteration %10 ==9):\n",
        "    print (\"Error:\"+ str(layer_2_error))\n",
        "\n",
        "print(weights_0_1)\n",
        "print(weights_1_2)\n",
        "layer_2"
      ],
      "execution_count": 20,
      "outputs": [
        {
          "output_type": "stream",
          "text": [
            "Error:0.6342311598444467\n",
            "Error:0.3583840767631751\n",
            "Error:0.08301831133032973\n",
            "Error:0.006467054957103672\n",
            "Error:0.0003292669000750735\n",
            "Error:1.5055622665134864e-05\n",
            "[[-0.16595599  0.91056768 -0.99977125 -0.90023925]\n",
            " [-0.70648822 -0.92794391 -0.62747958  0.89703458]\n",
            " [-0.20646505 -0.03308324 -0.16161097  0.00237016]]\n",
            "[[-0.5910955 ]\n",
            " [ 1.13962134]\n",
            " [-0.94522481]\n",
            " [ 1.11023793]]\n"
          ],
          "name": "stdout"
        },
        {
          "output_type": "execute_result",
          "data": {
            "text/plain": [
              "array([[0.]])"
            ]
          },
          "metadata": {
            "tags": []
          },
          "execution_count": 20
        }
      ]
    }
  ]
}