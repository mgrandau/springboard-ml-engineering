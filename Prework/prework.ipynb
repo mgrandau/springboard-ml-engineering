{
 "cells": [
  {
   "cell_type": "markdown",
   "metadata": {},
   "source": [
    "# Prework\r\n",
    "\r\n",
    "This notebook tracks my prework. The prework is designed to ensure I have all the tools in place that I should need to do the class work."
   ]
  },
  {
   "cell_type": "markdown",
   "metadata": {},
   "source": [
    "## Setting Up the Machine Instance\r\n",
    "\r\n",
    "I'm using AWS Workspaces to created an instance for all my Springboard ML Engineering work. This allows me:\r\n",
    "\r\n",
    "* To keep that work completely sand-boxed from all other work.\r\n",
    "* It exists in the cloud so moving around large data sets should be easy.\r\n",
    "* I can change the instance of the Workspace to suit what I need to do.\r\n",
    "* I can access the cloud instance of the workspace through any internet connected device."
   ]
  },
  {
   "cell_type": "markdown",
   "metadata": {},
   "source": [
    "## Getting Python Ready\r\n",
    "\r\n",
    "* I'm using the [python.org](https://www.python.org/) installation of python. I do this because I want to be familiar with all the python modules that are being used. I'm initially using 3.9.2.  Currently not using venv because the machine instance I am using is dedicated to the Springboard class.\r\n",
    "\r\n",
    "* Added python modules to support using jupyter notebooks.\r\n",
    " "
   ]
  },
  {
   "cell_type": "markdown",
   "metadata": {},
   "source": [
    "## GitHub\r\n",
    "\r\n",
    "* Added a project to GitHub to allow mentors to see my work.\r\n",
    "* Put and pulled to verify everything is working."
   ]
  },
  {
   "cell_type": "markdown",
   "metadata": {},
   "source": [
    "## Mode\r\n",
    "\r\n",
    "* Signed up. Username: mgrandau\r\n",
    "* Workspace name: mgrandau_springboard\r\n",
    "* Workspace URL: app.mode.cpm/mgrandau_springboard\r\n",
    "* Went through the Basic SQL Tutorial"
   ]
  },
  {
   "cell_type": "code",
   "execution_count": null,
   "metadata": {},
   "outputs": [],
   "source": []
  }
 ],
 "metadata": {
  "kernelspec": {
   "display_name": "Python 3",
   "language": "python",
   "name": "python3"
  },
  "language_info": {
   "codemirror_mode": {
    "name": "ipython",
    "version": 3
   },
   "file_extension": ".py",
   "mimetype": "text/x-python",
   "name": "python",
   "nbconvert_exporter": "python",
   "pygments_lexer": "ipython3",
   "version": "3.9.2"
  }
 },
 "nbformat": 4,
 "nbformat_minor": 2
}